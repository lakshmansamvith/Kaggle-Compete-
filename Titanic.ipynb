{
  "nbformat": 4,
  "nbformat_minor": 0,
  "metadata": {
    "colab": {
      "name": "Titanic.ipynb",
      "provenance": [],
      "collapsed_sections": [],
      "authorship_tag": "ABX9TyOtMZiVmwHEuDKXLDHo0q3d",
      "include_colab_link": true
    },
    "kernelspec": {
      "name": "python3",
      "display_name": "Python 3"
    }
  },
  "cells": [
    {
      "cell_type": "markdown",
      "metadata": {
        "id": "view-in-github",
        "colab_type": "text"
      },
      "source": [
        "<a href=\"https://colab.research.google.com/github/lakshmansamvith/Kaggle-Compete-/blob/master/Titanic.ipynb\" target=\"_parent\"><img src=\"https://colab.research.google.com/assets/colab-badge.svg\" alt=\"Open In Colab\"/></a>"
      ]
    },
    {
      "cell_type": "code",
      "metadata": {
        "id": "jhc3lulASC04",
        "colab_type": "code",
        "outputId": "957b5873-ecfe-4879-f897-28f8b6ddcf28",
        "colab": {
          "resources": {
            "http://localhost:8080/nbextensions/google.colab/files.js": {
              "data": "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",
              "ok": true,
              "headers": [
                [
                  "content-type",
                  "application/javascript"
                ]
              ],
              "status": 200,
              "status_text": ""
            }
          },
          "base_uri": "https://localhost:8080/",
          "height": 108
        }
      },
      "source": [
        "from google.colab import files\n",
        "uploaded_file = files.upload()"
      ],
      "execution_count": 3,
      "outputs": [
        {
          "output_type": "display_data",
          "data": {
            "text/html": [
              "\n",
              "     <input type=\"file\" id=\"files-9da3ede6-5114-4320-8f61-a3943a0e5a61\" name=\"files[]\" multiple disabled />\n",
              "     <output id=\"result-9da3ede6-5114-4320-8f61-a3943a0e5a61\">\n",
              "      Upload widget is only available when the cell has been executed in the\n",
              "      current browser session. Please rerun this cell to enable.\n",
              "      </output>\n",
              "      <script src=\"/nbextensions/google.colab/files.js\"></script> "
            ],
            "text/plain": [
              "<IPython.core.display.HTML object>"
            ]
          },
          "metadata": {
            "tags": []
          }
        },
        {
          "output_type": "stream",
          "text": [
            "Saving train.csv to train.csv\n",
            "Saving test.csv to test.csv\n"
          ],
          "name": "stdout"
        }
      ]
    },
    {
      "cell_type": "markdown",
      "metadata": {
        "id": "-H-DKnMCbZ1c",
        "colab_type": "text"
      },
      "source": [
        "#Read CSV Files "
      ]
    },
    {
      "cell_type": "code",
      "metadata": {
        "id": "XObFGyQjUT92",
        "colab_type": "code",
        "colab": {}
      },
      "source": [
        "import pandas as pd \n",
        "import numpy as np \n",
        "pd.set_option(\"display.max_rows\", 50, \"display.max_columns\", None)\n",
        "training_data_frame = pd.read_csv('train.csv')\n",
        "testing_data_frame  = pd.read_csv('test.csv')\n",
        "#testing_data_frame"
      ],
      "execution_count": 0,
      "outputs": []
    },
    {
      "cell_type": "markdown",
      "metadata": {
        "id": "OpbsGUTobfWS",
        "colab_type": "text"
      },
      "source": [
        "#Check for NaN values (Data Preprocessing) and Drop Columns with more than 75% Null Values "
      ]
    },
    {
      "cell_type": "code",
      "metadata": {
        "id": "V6wPi033bece",
        "colab_type": "code",
        "outputId": "3d4697c5-ab9d-4b85-ec29-db5576b99258",
        "colab": {
          "base_uri": "https://localhost:8080/",
          "height": 67
        }
      },
      "source": [
        "train_nan_values = list()\n",
        "for column in training_data_frame.columns:\n",
        "    train_nan_values.append(training_data_frame[column].isnull().sum())\n",
        "\n",
        "train_null_ratio_index = list()\n",
        "for value in train_nan_values: \n",
        "    if value/len(training_data_frame) > 0.75:\n",
        "       train_null_ratio_index.append(train_nan_values.index(value))\n",
        "print(train_null_ratio_index)\n",
        "\n",
        "test_nan_values = list()\n",
        "for column in testing_data_frame.columns:\n",
        "        test_nan_values.append(testing_data_frame[column].isnull().sum())\n",
        "        \n",
        "test_null_ratio_index = list()\n",
        "for value in test_nan_values: \n",
        "    if value/len(testing_data_frame) > 0.75:\n",
        "       test_null_ratio_index.append(test_nan_values.index(value))\n",
        "\n",
        "\n",
        "print(train_nan_values, test_nan_values)\n",
        "print(train_null_ratio_index , test_null_ratio_index )\n",
        "\n",
        "for elem in test_null_ratio_index:\n",
        "    testing_data_frame = testing_data_frame.drop(testing_data_frame.columns[test_null_ratio_index], axis=1)\n",
        "\n",
        "for elem in train_null_ratio_index:\n",
        "    training_data_frame = training_data_frame.drop(training_data_frame.columns[train_null_ratio_index], axis=1)\n",
        "\n",
        "#testing_data_frame"
      ],
      "execution_count": 297,
      "outputs": [
        {
          "output_type": "stream",
          "text": [
            "[10]\n",
            "[0, 0, 0, 0, 0, 177, 0, 0, 0, 0, 687, 2] [0, 0, 0, 0, 86, 0, 0, 0, 1, 327, 0]\n",
            "[10] [9]\n"
          ],
          "name": "stdout"
        }
      ]
    },
    {
      "cell_type": "markdown",
      "metadata": {
        "id": "AQ0BYHpAp4-F",
        "colab_type": "text"
      },
      "source": [
        "\n",
        "# Label Encoding \n"
      ]
    },
    {
      "cell_type": "code",
      "metadata": {
        "id": "ZQaCgmKBp4Dn",
        "colab_type": "code",
        "colab": {}
      },
      "source": [
        "from sklearn.preprocessing import LabelEncoder\n",
        "label_encoder = LabelEncoder()\n",
        "\n",
        "training_data_frame['Embarked'] = training_data_frame['Embarked'].fillna('')\n",
        "testing_data_frame['Embarked'] = testing_data_frame['Embarked'].fillna('')\n",
        "\n",
        "training_categorical_values = [training_data_frame['Sex'].values, training_data_frame['Ticket'].values, training_data_frame['Embarked'].values ]\n",
        "for num in range(len(training_categorical_values)):\n",
        "        #print(training_categorical_values[num])\n",
        "        training_categorical_values[num] = label_encoder.fit_transform(training_categorical_values[num])\n",
        "\n",
        "testing_categorical_values = [testing_data_frame['Sex'].values, testing_data_frame['Ticket'].values, testing_data_frame['Embarked'].values]\n",
        "for num in range(len(testing_categorical_values)):\n",
        "        testing_categorical_values[num] = label_encoder.fit_transform(testing_categorical_values[num])    \n",
        "    \n",
        "training_data_frame['Sex'], training_data_frame['Ticket'], training_data_frame['Embarked'] = training_categorical_values\n",
        "\n",
        "testing_data_frame['Sex'], testing_data_frame['Ticket'], testing_data_frame['Embarked'] = testing_categorical_values\n",
        "\n",
        "\n",
        "\n"
      ],
      "execution_count": 0,
      "outputs": []
    },
    {
      "cell_type": "markdown",
      "metadata": {
        "id": "4GLgNp0Wpk08",
        "colab_type": "text"
      },
      "source": [
        "#Interpolating all the Missing Values in the DataFrames "
      ]
    },
    {
      "cell_type": "code",
      "metadata": {
        "id": "BaxcKvfMpqzO",
        "colab_type": "code",
        "colab": {}
      },
      "source": [
        "training_data_frame = training_data_frame.interpolate(method ='polynomial', order=5)\n",
        "testing_data_frame = testing_data_frame.interpolate(method ='polynomial', order=5) \n"
      ],
      "execution_count": 0,
      "outputs": []
    },
    {
      "cell_type": "markdown",
      "metadata": {
        "id": "D9jQ-VbLLw5p",
        "colab_type": "text"
      },
      "source": [
        "#Feature Engineering(Creating Two New Features)"
      ]
    },
    {
      "cell_type": "code",
      "metadata": {
        "id": "q3rJOENaLwfZ",
        "colab_type": "code",
        "colab": {}
      },
      "source": [
        "training_data_frame['total_family'] = training_data_frame['Parch'] + training_data_frame['SibSp']\n",
        "training_data_frame['Individual_Fare'] = training_data_frame['Fare']/(training_data_frame['total_family']+1)\n",
        "training_data_frame['Age*Class'] = training_data_frame['Age']*training_data_frame['Pclass'] \n",
        "\n",
        "\n",
        "testing_data_frame['total_family'] = testing_data_frame['Parch'] + testing_data_frame['SibSp']\n",
        "testing_data_frame['Individual_Fare'] = testing_data_frame['Fare']/(testing_data_frame['total_family']+1)\n",
        "testing_data_frame['Age*Class'] =  testing_data_frame['Age']*testing_data_frame['Pclass']\n",
        "\n",
        "#training_data_frame\n"
      ],
      "execution_count": 0,
      "outputs": []
    },
    {
      "cell_type": "markdown",
      "metadata": {
        "id": "1xIT0IztWueS",
        "colab_type": "text"
      },
      "source": [
        "# Feature Correlations (Establishing Feature and Target Variables) "
      ]
    },
    {
      "cell_type": "code",
      "metadata": {
        "id": "Uk7zH6-0W01v",
        "colab_type": "code",
        "outputId": "b2ec1cd9-5124-432d-8503-a8e8b6e3a13a",
        "colab": {
          "base_uri": "https://localhost:8080/",
          "height": 218
        }
      },
      "source": [
        "correlations = training_data_frame.corr()\n",
        "survived_corr = correlations['Survived']\n",
        "count = 0\n",
        "print(survived_corr)\n",
        "\n",
        "required_attributes = list()\n",
        "for elem in survived_corr: \n",
        "    if elem >0.20: \n",
        "       required_attributes.append(correlations.columns[count])\n",
        "    count = count + 1  \n",
        "\n",
        "target_attributes, featured_attributes = required_attributes[:1], required_attributes[1:] \n",
        "print(featured_attributes, target_attributes)\n"
      ],
      "execution_count": 300,
      "outputs": [
        {
          "output_type": "stream",
          "text": [
            "PassengerId       -0.005007\n",
            "Survived           1.000000\n",
            "Pclass            -0.338481\n",
            "Age               -0.037111\n",
            "SibSp             -0.035322\n",
            "Parch              0.081629\n",
            "Fare               0.257307\n",
            "total_family       0.016639\n",
            "Individual_Fare    0.221600\n",
            "Age*Class         -0.229061\n",
            "Name: Survived, dtype: float64\n",
            "['Fare', 'Individual_Fare'] ['Survived']\n"
          ],
          "name": "stdout"
        }
      ]
    },
    {
      "cell_type": "markdown",
      "metadata": {
        "id": "qdaMW1bBduvL",
        "colab_type": "text"
      },
      "source": [
        "# Splitting into Feature and Target values(Training Data)"
      ]
    },
    {
      "cell_type": "code",
      "metadata": {
        "id": "oWTaAC-ydzYg",
        "colab_type": "code",
        "colab": {}
      },
      "source": [
        "from sklearn.model_selection import train_test_split\n",
        "X_train, X_test, y_train, y_test = train_test_split(training_data_frame[featured_attributes].values, \n",
        "                                                    training_data_frame[target_attributes].values.reshape(len(training_data_frame),), \n",
        "                                                    random_state=0)"
      ],
      "execution_count": 0,
      "outputs": []
    },
    {
      "cell_type": "markdown",
      "metadata": {
        "id": "-5BqrhJDefUz",
        "colab_type": "text"
      },
      "source": [
        "#Scaling Attributes "
      ]
    },
    {
      "cell_type": "code",
      "metadata": {
        "id": "01SrReSFeeZx",
        "colab_type": "code",
        "colab": {}
      },
      "source": [
        "from sklearn.preprocessing import RobustScaler\n",
        "scaler =   RobustScaler()\n",
        "scaler = scaler.fit(X_train)\n",
        "X_train = scaler.transform(X_train)\n",
        "X_test = scaler.transform(X_test)\n"
      ],
      "execution_count": 0,
      "outputs": []
    },
    {
      "cell_type": "markdown",
      "metadata": {
        "id": "yiPEO_7jogJY",
        "colab_type": "text"
      },
      "source": [
        "# Building a Gaussian Classifier  Model "
      ]
    },
    {
      "cell_type": "code",
      "metadata": {
        "id": "SAYNPuCpjbXH",
        "colab_type": "code",
        "colab": {
          "base_uri": "https://localhost:8080/",
          "height": 34
        },
        "outputId": "d2a0b994-8325-4be8-f851-20743b515d29"
      },
      "source": [
        "from sklearn.naive_bayes import GaussianNB \n",
        "gaussian_model = GaussianNB()\n",
        "gaussian_model.fit(X_train, y_train)\n",
        "y_predicted_values = gaussian_model.predict(X_test)\n",
        "print(gaussian_model.score(X_test, y_test))"
      ],
      "execution_count": 303,
      "outputs": [
        {
          "output_type": "stream",
          "text": [
            "0.6995515695067265\n"
          ],
          "name": "stdout"
        }
      ]
    },
    {
      "cell_type": "markdown",
      "metadata": {
        "id": "C2PYn08M0gM0",
        "colab_type": "text"
      },
      "source": [
        "#Building a RandomForest Classifier "
      ]
    },
    {
      "cell_type": "code",
      "metadata": {
        "id": "nZ6VJ5odrZkY",
        "colab_type": "code",
        "colab": {
          "base_uri": "https://localhost:8080/",
          "height": 34
        },
        "outputId": "a025234d-1bc1-40cc-9e17-93531b53d916"
      },
      "source": [
        "from sklearn.ensemble import RandomForestClassifier\n",
        "rf_clf = RandomForestClassifier(criterion='gini', max_depth=5 )\n",
        "rf_clf.fit(X_train, y_train)\n",
        "print(rf_clf.score(X_test, y_test))"
      ],
      "execution_count": 304,
      "outputs": [
        {
          "output_type": "stream",
          "text": [
            "0.726457399103139\n"
          ],
          "name": "stdout"
        }
      ]
    },
    {
      "cell_type": "markdown",
      "metadata": {
        "id": "2P0jl1-p0ozX",
        "colab_type": "text"
      },
      "source": [
        "#Building a DecisionTreeClassifier"
      ]
    },
    {
      "cell_type": "code",
      "metadata": {
        "id": "lnbznczGtOyJ",
        "colab_type": "code",
        "colab": {
          "base_uri": "https://localhost:8080/",
          "height": 34
        },
        "outputId": "e3cee72c-b5b4-46e2-877f-b784b3762377"
      },
      "source": [
        "from sklearn.tree import DecisionTreeClassifier \n",
        "dt_clf = DecisionTreeClassifier()\n",
        "dt_clf.fit(X_train, y_train)\n",
        "print(dt_clf.score(X_test, y_test))"
      ],
      "execution_count": 305,
      "outputs": [
        {
          "output_type": "stream",
          "text": [
            "0.6995515695067265\n"
          ],
          "name": "stdout"
        }
      ]
    },
    {
      "cell_type": "markdown",
      "metadata": {
        "id": "mqvQ5PgN1WDT",
        "colab_type": "text"
      },
      "source": [
        "#Building a Logistic Regression Model "
      ]
    },
    {
      "cell_type": "code",
      "metadata": {
        "id": "KaWkP6tGt0DX",
        "colab_type": "code",
        "colab": {
          "base_uri": "https://localhost:8080/",
          "height": 34
        },
        "outputId": "0ca5e36f-5935-43d9-f570-45d34027003f"
      },
      "source": [
        "from sklearn.linear_model import LogisticRegression\n",
        "log_reg = LogisticRegression()\n",
        "log_reg.fit(X_train, y_train)\n",
        "log_reg.score(X_test, y_test)"
      ],
      "execution_count": 306,
      "outputs": [
        {
          "output_type": "execute_result",
          "data": {
            "text/plain": [
              "0.695067264573991"
            ]
          },
          "metadata": {
            "tags": []
          },
          "execution_count": 306
        }
      ]
    },
    {
      "cell_type": "markdown",
      "metadata": {
        "id": "D3Fno0xZ1cTd",
        "colab_type": "text"
      },
      "source": [
        "#Building a Gradient Booster Classifier "
      ]
    },
    {
      "cell_type": "markdown",
      "metadata": {
        "id": "BYRLxJHc2BgU",
        "colab_type": "text"
      },
      "source": [
        ""
      ]
    },
    {
      "cell_type": "code",
      "metadata": {
        "id": "0gLa8J5iud42",
        "colab_type": "code",
        "colab": {
          "base_uri": "https://localhost:8080/",
          "height": 34
        },
        "outputId": "cbfcff62-cf9e-4d9e-8996-260b9cae6e4a"
      },
      "source": [
        "from sklearn.ensemble import GradientBoostingClassifier \n",
        "gb_clf = GradientBoostingClassifier()\n",
        "gb_clf.fit(X_train, y_train)\n",
        "gb_clf.score(X_test, y_test)\n"
      ],
      "execution_count": 307,
      "outputs": [
        {
          "output_type": "execute_result",
          "data": {
            "text/plain": [
              "0.7488789237668162"
            ]
          },
          "metadata": {
            "tags": []
          },
          "execution_count": 307
        }
      ]
    },
    {
      "cell_type": "markdown",
      "metadata": {
        "id": "kcK2RxVHQXwA",
        "colab_type": "text"
      },
      "source": [
        "#Choosing the best Model and creating the model for Train Set"
      ]
    },
    {
      "cell_type": "code",
      "metadata": {
        "id": "uGoyowHT2Arp",
        "colab_type": "code",
        "colab": {}
      },
      "source": [
        "X_train, y_train = training_data_frame[featured_attributes].values, training_data_frame[target_attributes].values.reshape(len(training_data_frame),)\n",
        "X_test = testing_data_frame[featured_attributes]\n",
        "scaler = Normalizer()\n",
        "scaler = scaler.fit(X_train)\n",
        "X_train = scaler.transform(X_train)\n",
        "X_test = scaler.transform(X_test)\n",
        "gb_clf1 = GradientBoostingClassifier()\n",
        "gb_clf1.fit(X_train, y_train)\n",
        "predicted_values = gb_clf1.predict(X_test).tolist()\n"
      ],
      "execution_count": 0,
      "outputs": []
    },
    {
      "cell_type": "code",
      "metadata": {
        "id": "lD5M0MgMB-FY",
        "colab_type": "code",
        "colab": {}
      },
      "source": [
        "import  csv\n",
        "#(testing_data_frame)\n",
        "Passenger_Ids = testing_data_frame['PassengerId'].values.tolist()\n",
        "row = 0\n",
        "with open('Answer.csv', 'w') as file:\n",
        "     writer = csv.writer(file, lineterminator='\\n')\n",
        "     for count in range(len(Passenger_Ids)): \n",
        "         if row == 0:\n",
        "             writer.writerow(['PassengerId', 'Survived'])\n",
        "         writer.writerow([Passenger_Ids[count], predicted_values[count]])\n",
        "         row = row + 1"
      ],
      "execution_count": 0,
      "outputs": []
    },
    {
      "cell_type": "code",
      "metadata": {
        "id": "I5wj3wkvg5Ga",
        "colab_type": "code",
        "colab": {}
      },
      "source": [
        ""
      ],
      "execution_count": 0,
      "outputs": []
    }
  ]
}